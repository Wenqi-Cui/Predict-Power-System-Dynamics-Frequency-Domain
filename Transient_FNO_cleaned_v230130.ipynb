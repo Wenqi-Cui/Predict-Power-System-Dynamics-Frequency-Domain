{
  "nbformat": 4,
  "nbformat_minor": 0,
  "metadata": {
    "accelerator": "GPU",
    "colab": {
      "provenance": [],
      "collapsed_sections": [
        "T2gwqKsyUjUt",
        "_vFEAqRgW3UI"
      ],
      "machine_shape": "hm",
      "toc_visible": true
    },
    "kernelspec": {
      "display_name": "Python 3",
      "language": "python",
      "name": "python3"
    },
    "language_info": {
      "codemirror_mode": {
        "name": "ipython",
        "version": 3
      },
      "file_extension": ".py",
      "mimetype": "text/x-python",
      "name": "python",
      "nbconvert_exporter": "python",
      "pygments_lexer": "ipython3",
      "version": "3.7.9"
    },
    "gpuClass": "standard"
  },
  "cells": [
    {
      "cell_type": "code",
      "metadata": {
        "id": "KImDNeGETSiv"
      },
      "source": [
        "gpu_info = !nvidia-smi\n",
        "gpu_info = '\\n'.join(gpu_info)\n",
        "if gpu_info.find('failed') >= 0:\n",
        "  print('Select the Runtime > \"Change runtime type\" menu to enable a GPU accelerator, ')\n",
        "  print('and then re-execute this cell.')\n",
        "else:\n",
        "  print(gpu_info)"
      ],
      "execution_count": null,
      "outputs": []
    },
    {
      "cell_type": "code",
      "metadata": {
        "collapsed": true,
        "id": "cj_yZ7v3TMEz"
      },
      "source": [
        "\n",
        "import torch\n",
        "import numpy as np\n",
        "import torch.nn as nn\n",
        "import torch.nn.functional as F\n",
        "\n",
        "import matplotlib.pyplot as plt\n",
        "\n",
        "import operator\n",
        "from functools import reduce\n",
        "from functools import partial\n",
        "\n",
        "from timeit import default_timer\n",
        "import scipy.io\n",
        "import random\n",
        "import math\n",
        "import scipy.io as sio\n",
        "import h5py\n",
        "import matplotlib as mpl\n",
        "from cycler import cycler\n",
        "import pickle\n",
        "\n",
        "torch.manual_seed(0)\n",
        "np.random.seed(0)\n",
        "torch.cuda.empty_cache()"
      ],
      "execution_count": null,
      "outputs": []
    },
    {
      "cell_type": "code",
      "metadata": {
        "id": "VJDHML3KTWwq"
      },
      "source": [
        "from google.colab import drive\n",
        "drive.mount('/content/drive')"
      ],
      "execution_count": null,
      "outputs": []
    },
    {
      "cell_type": "code",
      "metadata": {
        "collapsed": true,
        "id": "UU6y0LWOb2gY"
      },
      "source": [
        "import sys\n",
        "from utilities3 import *"
      ],
      "execution_count": null,
      "outputs": []
    },
    {
      "cell_type": "markdown",
      "metadata": {
        "id": "R-336Sz1Uf12"
      },
      "source": [
        "# 3d fourier layers"
      ]
    },
    {
      "cell_type": "code",
      "metadata": {
        "collapsed": true,
        "id": "RXyPahfLUd37"
      },
      "source": [
        "\n",
        "class SpectralConv3d(nn.Module):\n",
        "    def __init__(self, in_channels, out_channels, modes1, modes2, modes3):\n",
        "        super(SpectralConv3d, self).__init__()\n",
        "\n",
        "        \"\"\"\n",
        "        3D Fourier layer. It does FFT, linear transform, and Inverse FFT.    \n",
        "        \"\"\"\n",
        "\n",
        "        self.in_channels = in_channels\n",
        "        self.out_channels = out_channels\n",
        "        self.modes1 = modes1 #Number of Fourier modes to multiply, at most floor(N/2) + 1\n",
        "        self.modes2 = modes2\n",
        "        self.modes3 = modes3\n",
        "\n",
        "        self.scale = (1 / (in_channels * out_channels))\n",
        "        self.weights1 = nn.Parameter(self.scale * torch.rand(in_channels, out_channels, self.modes1, self.modes2, self.modes3, dtype=torch.cfloat))\n",
        "        self.weights2 = nn.Parameter(self.scale * torch.rand(in_channels, out_channels, self.modes1, self.modes2, self.modes3, dtype=torch.cfloat))\n",
        "        self.weights3 = nn.Parameter(self.scale * torch.rand(in_channels, out_channels, self.modes1, self.modes2, self.modes3, dtype=torch.cfloat))\n",
        "        self.weights4 = nn.Parameter(self.scale * torch.rand(in_channels, out_channels, self.modes1, self.modes2, self.modes3, dtype=torch.cfloat))\n",
        "\n",
        "    # Complex multiplication\n",
        "    def compl_mul3d(self, input, weights):\n",
        "        # (batch, in_channel, x,y,t ), (in_channel, out_channel, x,y,t) -> (batch, out_channel, x,y,t)\n",
        "        return torch.einsum(\"bixyz,ioxyz->boxyz\", input, weights)\n",
        "\n",
        "    def forward(self, x):\n",
        "        batchsize = x.shape[0]\n",
        "        #Compute Fourier coeffcients up to factor of e^(- something constant)\n",
        "        x_ft = torch.fft.rfftn(x, dim=[-3,-2,-1])\n",
        "        # Multiply relevant Fourier modes\n",
        "\n",
        "        out_ft = torch.zeros(batchsize, self.out_channels, x.size(-3), x.size(-2), x.size(-1)//2 + 1, dtype=torch.cfloat, device=x.device)\n",
        "        \n",
        "        out_ft[:, :, :self.modes1, :self.modes2, :self.modes3] = \\\n",
        "            self.compl_mul3d(x_ft[:, :, :self.modes1, :self.modes2, :self.modes3], self.weights1)\n",
        "        out_ft[:, :, -self.modes1:, :self.modes2, :self.modes3] = \\\n",
        "            self.compl_mul3d(x_ft[:, :, -self.modes1:, :self.modes2, :self.modes3], self.weights2)\n",
        "        out_ft[:, :, :self.modes1, -self.modes2:, :self.modes3] = \\\n",
        "            self.compl_mul3d(x_ft[:, :, :self.modes1, -self.modes2:, :self.modes3], self.weights3)\n",
        "        out_ft[:, :, -self.modes1:, -self.modes2:, :self.modes3] = \\\n",
        "            self.compl_mul3d(x_ft[:, :, -self.modes1:, -self.modes2:, :self.modes3], self.weights4)\n",
        "\n",
        "        #Return to physical space\n",
        "        x = torch.fft.irfftn(out_ft, s=(x.size(-3), x.size(-2), x.size(-1)))\n",
        "        return x\n",
        "\n",
        "class FNO3d(nn.Module):\n",
        "    def __init__(self, modes1, modes2, modes3, width, inputsize, inputsize_vector):\n",
        "        super(FNO3d, self).__init__()\n",
        "\n",
        "        \"\"\"\n",
        "        The overall network. It contains 4 layers of the Fourier layer.\n",
        "        1. Lift the input to the desire channel dimension by self.fc0 .\n",
        "        2. 4 layers of the integral operators u' = (W + K)(u).\n",
        "            W defined by self.w; K defined by self.conv .\n",
        "        3. Project from the channel space to the output space by self.fc1 and self.fc2 .\n",
        "        \n",
        "        input: the solution of the first 10 timesteps + 3 locations (u(1, x, y), ..., u(10, x, y),  x, y, t). It's a constant function in time, except for the last index.\n",
        "        input shape: (batchsize, x=64, y=64, t=40, c=13)\n",
        "        output: the solution of the next 40 timesteps\n",
        "        output shape: (batchsize, x=64, y=64, t=40, c=1)\n",
        "        \"\"\"\n",
        "\n",
        "        self.modes1 = modes1\n",
        "        self.modes2 = modes2\n",
        "        self.modes3 = modes3\n",
        "        self.width = width\n",
        "        self.inputsize=inputsize\n",
        "        self.inputsize_vector = inputsize_vector \n",
        "        # self.fc0 = nn.Linear(inputsize, self.width)\n",
        "        self.fc0_ = nn.Parameter(torch.rand(inputsize_vector[1], inputsize_vector[2], inputsize_vector[3],\\\n",
        "                                            inputsize_vector[4],self.width, dtype=torch.float))\n",
        "\n",
        "\n",
        "        # self.fc0_ = nn.Parameter(torch.rand( inputsize_vector[3], inputsize_vector[4],self.width, dtype=torch.float))\n",
        "        # input channel is 12: the solution of the first 10 timesteps + 3 locations (u(1, x, y), ..., u(10, x, y),  x, y, t)\n",
        "\n",
        "        self.conv0 = SpectralConv3d(self.width, self.width, self.modes1, self.modes2, self.modes3)\n",
        "        self.conv1 = SpectralConv3d(self.width, self.width, self.modes1, self.modes2, self.modes3)\n",
        "        self.conv2 = SpectralConv3d(self.width, self.width, self.modes1, self.modes2, self.modes3)\n",
        "        self.conv3 = SpectralConv3d(self.width, self.width, self.modes1, self.modes2, self.modes3)\n",
        "\n",
        "        self.w0 = nn.Conv1d(self.width, self.width, 1)\n",
        "        self.w1 = nn.Conv1d(self.width, self.width, 1)\n",
        "        self.w2 = nn.Conv1d(self.width, self.width, 1)\n",
        "        self.w3 = nn.Conv1d(self.width, self.width, 1)\n",
        "\n",
        "\n",
        "        self.fc1 = nn.Linear(self.width, 64)\n",
        "        self.fc2 = nn.Linear(64, 1)\n",
        "\n",
        "    def compl_mul3d(self, input, weights):\n",
        "        # (batch, in_channel, x,y,t ), (in_channel, out_channel, x,y,t) -> (batch, out_channel, x,y,t)\n",
        "        return torch.einsum(\"bixyz,ixyzg->bixyg\", input, weights)\n",
        "        # return torch.einsum(\"bixyz,yzg->bixyg\", input, weights)\n",
        "\n",
        "    def forward(self, x):\n",
        "        batchsize = x.shape[0]\n",
        "        size_x, size_y, size_z = x.shape[1], x.shape[2], x.shape[3]\n",
        "\n",
        "        # x = self.fc0(x)\n",
        "        x =  self.compl_mul3d(x, self.fc0_)\n",
        "\n",
        "        x = x.permute(0, 4, 1, 2, 3)\n",
        "        x1 = self.conv0(x)\n",
        "        x2 = self.w0(x.reshape(batchsize, self.width, -1)).view(batchsize, self.width, size_x, size_y, size_z)\n",
        "        x = x1 + x2\n",
        "        x = F.relu(x)\n",
        "        x1 = self.conv1(x)\n",
        "        x2 = self.w1(x.reshape(batchsize, self.width, -1)).view(batchsize, self.width, size_x, size_y, size_z)\n",
        "        x = x1 + x2\n",
        "        x = F.relu(x)\n",
        "        x1 = self.conv2(x)\n",
        "        x2 = self.w2(x.view(batchsize, self.width, -1)).view(batchsize, self.width, size_x, size_y, size_z)\n",
        "        x = x1 + x2\n",
        "        x = F.relu(x)\n",
        "        x1 = self.conv3(x)\n",
        "        x2 = self.w3(x.view(batchsize, self.width, -1)).view(batchsize, self.width, size_x, size_y, size_z)\n",
        "        x = x1 + x2\n",
        "\n",
        "        x = x.permute(0, 2, 3, 4, 1)\n",
        "        x = self.fc1(x)\n",
        "        x = F.relu(x)\n",
        "        x = self.fc2(x)\n",
        "        return x\n",
        "\n"
      ],
      "execution_count": null,
      "outputs": []
    },
    {
      "cell_type": "markdown",
      "metadata": {
        "id": "T2gwqKsyUjUt"
      },
      "source": [
        "# configs"
      ]
    },
    {
      "cell_type": "code",
      "metadata": {
        "collapsed": true,
        "id": "PlcrhrdYUk5D"
      },
      "source": [
        "ntrain =800 # number of cases in the training set\n",
        "ntest = 100\n",
        "n_stressed_train = 10\n",
        "n_stressed_test = 10\n",
        "\n",
        "n_total=ntrain+ntest\n",
        "# width = 20\n",
        "batch_size_train = 100\n",
        "batch_size = 100 # batchsize for testing\n",
        "\n",
        "\n",
        "delta_t=0.01  # the time length between neighbouring time steps\n",
        "sub_T = 3 # number of time steps between neighbouring point in the input tensor\n",
        "T0=63 # the start of input data sequence\n",
        "T_in = 60 # the time step included in the input data sequence, the length of input tensor is T_in/sub_T\n",
        "T = 450 #the time step included in the output data sequence, the length of output tensor is T/sub_T\n",
        "\n",
        "# the fault happens at 120\n",
        "runtime = np.zeros(2, )\n"
      ],
      "execution_count": null,
      "outputs": []
    },
    {
      "cell_type": "code",
      "metadata": {
        "collapsed": true,
        "id": "Ka_TjhpFKeVP"
      },
      "source": [],
      "execution_count": null,
      "outputs": []
    },
    {
      "cell_type": "markdown",
      "metadata": {
        "id": "rgpgO-RK1bUR"
      },
      "source": [
        "# Dataframe for training"
      ]
    },
    {
      "cell_type": "markdown",
      "metadata": {
        "id": "WTeyUuVxTDaX"
      },
      "source": [
        "## load data"
      ]
    },
    {
      "cell_type": "markdown",
      "metadata": {
        "id": "gGkcmgUYAbdK"
      },
      "source": [
        "load the training data generated by Power System Toolbox in MATLAB\n",
        "\n",
        "\n",
        "The trajectory.mat file include trajectories from different initial point with different fault types\n",
        "\n",
        "\n",
        "> For examples, if the total number of samples is 2000, the number of bus generators is 48, the simulated length is 10, the discretization time step is 0.01, then the trajectory.mat is a arrray of the shape (2000 * 7 * 48 * 1000)\n",
        "\n",
        "> The dimension of 7 stand for the state variable\n",
        "\n",
        "\n",
        "\n",
        "\n"
      ]
    },
    {
      "cell_type": "code",
      "source": [
        "# The dataset is generated by the simulation using Power System Toolbox.\n",
        "# This dataset are trajectories under random fault, fault-clear time and fault-clear actions.\n",
        "# The link to the dataset is https://drive.google.com/file/d/1SrQFbit6dPf0OhvFd4V8K64bOoNbB_CZ/view?usp=sharing\n",
        "\n",
        "f = open(\"/content/drive/MyDrive/Colab Notebooks/1. fourier neural operator/2. TPS_revise/data/record220831_trajectory_NPCC_Fs12_Tieall_2000scale2.pckl\", 'rb')\n",
        "[Batch_delta_omaga_Time0] = pickle.load(f)\n",
        "f.close()\n",
        "\n",
        "############################\n",
        "# This dataset are trajectories with stessed conditions\n",
        "# We add this to the training and test set to reflet more about the prediction for stessed stable and unstable cases\n",
        "# The link to the dataset is https://drive.google.com/file/d/1nDCAY0DIbsPWSmGA78ay9nM3hP4r6c1N/view?usp=sharing\n",
        "\n",
        "f = open(\"/content/drive/MyDrive/Colab Notebooks/1. fourier neural operator/2. TPS_revise/data/record220831_trajectory_NPCC_Fs12_Tieall_90scale2_stressed.pckl\", 'rb')\n",
        "[Batch_delta_omaga_Time_stresses] = pickle.load(f)\n",
        "f.close()"
      ],
      "metadata": {
        "id": "YCJrh-cD-e0K"
      },
      "execution_count": null,
      "outputs": []
    },
    {
      "cell_type": "markdown",
      "source": [
        "Great Britain transmission network"
      ],
      "metadata": {
        "id": "mIbyI3rSggHw"
      }
    },
    {
      "cell_type": "code",
      "source": [
        "# # For the Great Britain transmission network, run this block intead\n",
        "# # The dataset is generated by ANDES (see https://docs.andes.app/en/latest/) \n",
        "# # The link to the dataset is https://drive.google.com/file/d/10Y_88SVfDcTNjz7Fet9auj22gd0VEHlE/view?usp=sharing\n",
        "\n",
        "# f = open('/content/drive/MyDrive/Colab Notebooks/1. fourier neural operator/2. TPS_revise/larger system/data/GB_record300T200_trajectory0906_train.pckl', 'rb')\n",
        "# [Batch_delta_omaga_Time, Batch_Time_stamp] = pickle.load(f)\n",
        "\n",
        "# f.close()"
      ],
      "metadata": {
        "id": "Zq3kEWLWd6E7"
      },
      "execution_count": null,
      "outputs": []
    },
    {
      "cell_type": "markdown",
      "source": [
        "## data processing"
      ],
      "metadata": {
        "id": "_vFEAqRgW3UI"
      }
    },
    {
      "cell_type": "code",
      "metadata": {
        "id": "Ds25couSLS4L"
      },
      "source": [
        "Batch_delta_omaga_Time_max = np.amax(np.amax(abs(Batch_delta_omaga_Time0[:,1,:,0:1000]),  axis=(-1)),  axis=(-1))\n",
        "# Eliminate the case where the frequency deviation is unrealistically large\n",
        "threshold_higher= 4\n",
        "threshold_lower= 0.02\n",
        "idx_select = np.where((Batch_delta_omaga_Time_max>threshold_lower)* (Batch_delta_omaga_Time_max<threshold_higher))\n",
        "Batch_delta_omaga_Time = Batch_delta_omaga_Time0[idx_select]\n",
        "np.shape(Batch_delta_omaga_Time)"
      ],
      "execution_count": null,
      "outputs": []
    },
    {
      "cell_type": "code",
      "source": [
        "Batch_delta_omaga_Time = np.concatenate((Batch_delta_omaga_Time, Batch_delta_omaga_Time_stresses ), axis=0)\n",
        "np.random.shuffle(Batch_delta_omaga_Time)"
      ],
      "metadata": {
        "id": "aTxFZExMcH3O"
      },
      "execution_count": null,
      "outputs": []
    },
    {
      "cell_type": "code",
      "source": [
        "np.shape(Batch_delta_omaga_Time)"
      ],
      "metadata": {
        "id": "7BQgr83XjIeL"
      },
      "execution_count": null,
      "outputs": []
    },
    {
      "cell_type": "code",
      "metadata": {
        "id": "KBYRPJIsTDab"
      },
      "source": [
        "# The dimension of 7 stands for:\n",
        "# row0: angle (rad)\n",
        "# row1: frequency deviation （Hz）\n",
        "# row2：active power\n",
        "# row3: reactive power\n",
        "# row4: voltage\n",
        "# row5: type of fault - 0 three phase\n",
        "#                     - 1 line to ground\n",
        "#                     - 2 line-to-line to ground\n",
        "#                     - 3 line-to-line\n",
        "#                     - 4 loss of line with no fault\n",
        "#                     - 5 loss of load at bus\n",
        "# row6: idx of faulted line\n",
        "idx_x_s=0\n",
        "idx_x_e=48\n",
        "idx_y_s=0\n",
        "idx_y_e=7\n",
        "full_idx_u=[0,1,4] # this is the index of variable to be predicted\n",
        "dim_delta=idx_y_e-idx_y_s\n",
        "dim_omega=idx_x_e-idx_x_s\n",
        "\n",
        "# generate training data\n",
        "train_a=torch.from_numpy(Batch_delta_omaga_Time[:ntrain,idx_y_s:idx_y_e,idx_x_s:idx_x_e,0+T0:T_in+T0:sub_T]).float()\n",
        "train_u=torch.from_numpy(Batch_delta_omaga_Time[:ntrain,full_idx_u,idx_x_s:idx_x_e,T_in+T0:T+T_in+T0:sub_T]).float()\n",
        "train_u_line=torch.from_numpy(Batch_delta_omaga_Time[:ntrain,5:6,idx_x_s:idx_x_e,T_in+T0:T+T_in+T0:sub_T]).float()\n",
        "train_u_lineidx=torch.from_numpy(Batch_delta_omaga_Time[:ntrain,6:7,idx_x_s:idx_x_e,T_in+T0:T+T_in+T0:sub_T]).float()\n",
        "\n",
        "n_test_start = 1000\n",
        "# generate test data\n",
        "test_a=torch.from_numpy(Batch_delta_omaga_Time[n_test_start:n_test_start+ntest,idx_y_s:idx_y_e,idx_x_s:idx_x_e,0+T0:T_in+T0:sub_T]).float()\n",
        "test_u=torch.from_numpy(Batch_delta_omaga_Time[n_test_start:n_test_start+ntest,full_idx_u,idx_x_s:idx_x_e,T_in+T0:T+T_in+T0:sub_T]).float()\n",
        "test_u_line=torch.from_numpy(Batch_delta_omaga_Time[n_test_start:n_test_start+ntest,5:6,idx_x_s:idx_x_e,T_in+T0:T+T_in+T0:sub_T]).float()\n",
        "test_u_lineidx=torch.from_numpy(Batch_delta_omaga_Time[n_test_start:n_test_start+ntest,6:7,idx_x_s:idx_x_e,T_in+T0:T+T_in+T0:sub_T]).float()\n",
        "\n",
        "\n",
        "\n",
        "print(np.shape(train_a))\n",
        "print(np.shape(train_u))\n",
        "print(np.shape(test_a))\n",
        "print(np.shape(test_u))\n",
        "\n"
      ],
      "execution_count": null,
      "outputs": []
    },
    {
      "cell_type": "markdown",
      "metadata": {
        "id": "XyXgHndK6DmC"
      },
      "source": [
        "![FourierNeuralOperator1.png](data:image/png;base64,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)"
      ]
    },
    {
      "cell_type": "code",
      "metadata": {
        "id": "qUlolkxeTDac"
      },
      "source": [
        "# duplicate the input tensor on the dimension of output sequence\n",
        "train_a = train_a.reshape(ntrain,dim_delta,dim_omega,1,int(T_in/sub_T)).repeat([1,1,1,int(T/sub_T),1])\n",
        "train_u_line = train_u_line.reshape(ntrain,1,dim_omega,int(T/sub_T),1).repeat([1,dim_delta,1,1,1])\n",
        "train_u_lineidx = train_u_lineidx.reshape(ntrain,1,dim_omega,int(T/sub_T),1).repeat([1,dim_delta,1,1,1])\n",
        "# attach the future line fault and fault type information to be two addtional input\n",
        "train_a = torch.cat((train_u_lineidx, train_u_line, train_a), dim=-1)\n",
        "\n",
        "\n",
        "test_a = test_a.reshape(ntest,dim_delta,dim_omega,1,int(T_in/sub_T)).repeat([1,1,1,int(T/sub_T),1])\n",
        "test_u_line = test_u_line.reshape(ntest,1,dim_omega,int(T/sub_T),1).repeat([1,dim_delta,1,1,1])\n",
        "test_u_lineidx = test_u_lineidx.reshape(ntest,1,dim_omega,int(T/sub_T),1).repeat([1,dim_delta,1,1,1])\n",
        "# attach the future line fault and fault type information to be two addtional input\n",
        "test_a = torch.cat((test_u_lineidx, test_u_line, test_a), dim=-1)\n",
        "\n",
        "print(np.shape(train_a))\n",
        "print(np.shape(test_a))\n"
      ],
      "execution_count": null,
      "outputs": []
    },
    {
      "cell_type": "code",
      "metadata": {
        "collapsed": true,
        "id": "LqxiUeniTDac"
      },
      "source": [
        "# batch normalization\n",
        "a_normalizer = UnitGaussianNormalizer(train_a)\n",
        "train_a = a_normalizer.encode(train_a)\n",
        "test_a = a_normalizer.encode(test_a)\n",
        "y_normalizer = UnitGaussianNormalizer(train_u)\n",
        "train_u = y_normalizer.encode(train_u)"
      ],
      "execution_count": null,
      "outputs": []
    },
    {
      "cell_type": "markdown",
      "metadata": {
        "id": "foD3ee1k1s0Z"
      },
      "source": [
        "## pad locations (x,y,t)"
      ]
    },
    {
      "cell_type": "code",
      "metadata": {
        "id": "p-Act70k1s0a"
      },
      "source": [
        "\n",
        "gridt = torch.tensor(delta_t*sub_T*np.arange(1,int(T/sub_T)+1), dtype=torch.float)\n",
        "gridt = gridt.reshape(1, 1, 1, int(T/sub_T), 1).repeat([1, dim_delta,dim_omega, 1, 1])\n",
        "\n",
        "# attach the time stamp for the output sequence\n",
        "train_a = torch.cat((gridt.repeat([ntrain,1,1,1,1]), train_a), dim=-1)\n",
        "test_a = torch.cat((gridt.repeat([ntest,1,1,1,1]), test_a), dim=-1)\n",
        "\n",
        "print(gridt.size())\n",
        "print(train_a.size())\n",
        "print(test_a.size())"
      ],
      "execution_count": null,
      "outputs": []
    },
    {
      "cell_type": "code",
      "metadata": {
        "collapsed": true,
        "id": "hr9U2Uk41s0a"
      },
      "source": [
        "train_loader = torch.utils.data.DataLoader(torch.utils.data.TensorDataset(train_a, train_u), batch_size=batch_size_train, shuffle=True)\n",
        "test_loader = torch.utils.data.DataLoader(torch.utils.data.TensorDataset(test_a, test_u), batch_size=batch_size, shuffle=False)\n",
        "device = torch.device('cuda')"
      ],
      "execution_count": null,
      "outputs": []
    },
    {
      "cell_type": "code",
      "metadata": {
        "id": "Ca3rPKvn1s0b"
      },
      "source": [
        "print(train_a.size())\n",
        "print(test_a.size())\n",
        "print(train_u.size())\n",
        "print(test_u.size())"
      ],
      "execution_count": null,
      "outputs": []
    },
    {
      "cell_type": "markdown",
      "metadata": {
        "id": "GaD6n45b1698"
      },
      "source": [
        "# training and evaluation"
      ]
    },
    {
      "cell_type": "code",
      "metadata": {
        "id": "iD4JrIY71698",
        "scrolled": true
      },
      "source": [
        "epochs =100\n",
        "learning_rate = 0.025\n",
        "scheduler_step = 100\n",
        "scheduler_gamma = 0.85\n",
        "\n",
        "modes1=3\n",
        "modes2=3\n",
        "modes3=6\n",
        "width = 20\n",
        "model = FNO3d(modes1, modes2, modes3, width,train_a.size()[-1],train_a.size()).cuda()\n",
        "\n",
        "print(count_params(model))\n",
        "optimizer = torch.optim.Adam(model.parameters(), lr=learning_rate, weight_decay=1e-4)\n",
        "scheduler = torch.optim.lr_scheduler.StepLR(optimizer, step_size=scheduler_step, gamma=scheduler_gamma)\n",
        "\n",
        "record_mse=[]\n",
        "record_train_l2=[]\n",
        "record_test_l2=[]\n",
        "myloss = LpLoss(size_average=False)\n",
        "y_normalizer.cuda()\n",
        "t1 = default_timer()\n",
        "\n",
        "for ep in range(epochs):\n",
        "    print('current memory allocated: {}'.format(torch.cuda.memory_allocated() / 1024 ** 2))\n",
        "    print('max memory allocated: {}'.format(torch.cuda.max_memory_allocated() / 1024 ** 2))\n",
        "    print('cached memory: {}'.format(torch.cuda.memory_cached() / 1024 ** 2))\n",
        "    model.train()\n",
        "    train_mse = 0\n",
        "    train_l2 = 0\n",
        "#     for x, y in train_loader:\n",
        "    x, y = next(iter( train_loader))\n",
        "    x, y = x.cuda(), y.cuda()\n",
        "\n",
        "    optimizer.zero_grad()\n",
        "    out = model(x)[0:batch_size_train, full_idx_u, 0:dim_omega, 0:int(T/sub_T),0]\n",
        "\n",
        "    mse = F.mse_loss(out, y, reduction='mean')\n",
        "    y = y_normalizer.decode(y)\n",
        "    out = y_normalizer.decode(out)\n",
        "    l2 = myloss(out.view(batch_size_train, -1), y.view(batch_size_train, -1))\n",
        "    l2.backward()\n",
        "\n",
        "    optimizer.step()\n",
        "    train_mse += mse.item()\n",
        "    train_l2 += l2.item()\n",
        "\n",
        "    scheduler.step()\n",
        "\n",
        "    model.eval()\n",
        "    test_l2 = 0.0\n",
        "    with torch.no_grad():\n",
        "        for x, y in test_loader:\n",
        "            x, y = x.cuda(), y.cuda()\n",
        "\n",
        "            out = model(x)[0:batch_size, full_idx_u, 0:dim_omega, 0:int(T/sub_T),0]\n",
        "            out = y_normalizer.decode(out)\n",
        "            test_l2 += myloss(out.view(batch_size, -1), y.view(batch_size, -1)).item()\n",
        "\n",
        "    train_mse /= len(train_loader)\n",
        "    train_l2 /= ntrain\n",
        "    test_l2 /= ntest\n",
        "\n",
        "    print('episode',ep, '   train_mse', train_mse, '   train_l2', train_l2, '   test_l2', test_l2)\n",
        "\n",
        "    record_mse.append(train_mse)\n",
        "    record_train_l2.append(train_l2)\n",
        "    record_test_l2.append(test_l2)\n",
        "t2 = default_timer()\n",
        "\n",
        "print('time', t2-t1)"
      ],
      "execution_count": null,
      "outputs": []
    },
    {
      "cell_type": "code",
      "metadata": {
        "collapsed": true,
        "id": "vJCvuSWw7qZq"
      },
      "source": [
        "torch.save(model.state_dict(), '/content/drive/MyDrive/Colab Notebooks/1. fourier neural operator\\\n",
        "/2. TPS_revise/weights/stressed_NPCC0907_alltie_V7O3T3(63+60+450)_mode76_1230.pt')"
      ],
      "execution_count": null,
      "outputs": []
    },
    {
      "cell_type": "code",
      "metadata": {
        "id": "Y3I_xR-tTr9R"
      },
      "source": [
        "plt.plot(record_test_l2)"
      ],
      "execution_count": null,
      "outputs": []
    },
    {
      "cell_type": "markdown",
      "metadata": {
        "id": "gCytMAaKuZPd"
      },
      "source": [
        "# Statistics"
      ]
    },
    {
      "cell_type": "code",
      "source": [
        "# y_normalizer.cuda()\n"
      ],
      "metadata": {
        "id": "owjJ1FQvOUCD"
      },
      "execution_count": null,
      "outputs": []
    },
    {
      "cell_type": "code",
      "metadata": {
        "id": "lsQppB3yuZPd"
      },
      "source": [
        "test_l2 = 0.0\n",
        "with torch.no_grad():\n",
        "    for x, y in test_loader:\n",
        "        x, y = x.cuda(), y.cuda()\n",
        "        print(x.size())\n",
        "\n",
        "        out = model(x)[0:batch_size, full_idx_u, 0:dim_omega, 0:int(T/sub_T),0]\n",
        "        out = y_normalizer.decode(out)\n",
        "        batch_mse = torch.sum(torch.square(out-y),dim=(1,2,3))\n",
        "        y_square = torch.sum(torch.square(y),dim=(1,2,3))\n",
        "        relative_mse = batch_mse/y_square\n",
        "\n",
        "        batch_abs = torch.sum(torch.abs(out-y),dim=(1,2,3))\n",
        "        y_abs = torch.sum(torch.abs(y),dim=(1,2,3))\n",
        "        relative_abs = batch_abs/y_abs       \n",
        "        # test_l2 += myloss(out.view(batch_size, -1), y.view(batch_size, -1)).item()\n",
        "print('average mse error', torch.mean(relative_mse))\n",
        "print('average abs error', torch.mean(relative_abs))\n"
      ],
      "execution_count": null,
      "outputs": []
    },
    {
      "cell_type": "code",
      "metadata": {
        "id": "u5FQ_PTguZPe"
      },
      "source": [
        "# plt.hist(relative_mse.cpu().detach().numpy())\n",
        "fig, ax = plt.subplots(1, 2, figsize=(10, 3)) \n",
        "# plt.subplots()\n",
        "n, bins, patches = ax[0].hist(relative_abs.cpu().detach().numpy(), density=True,  bins=1000,  histtype='step',\\\n",
        "                           cumulative=True, label='Empirical')\n",
        "ax[0].set_xlabel('relative abs error')\n",
        "ax[0].set_ylabel('cdf')\n",
        "\n",
        "n, bins, patches = ax[1].hist(relative_mse.cpu().detach().numpy(), density=True,  bins=1000,  histtype='step',\\\n",
        "                           cumulative=True, label='Empirical')\n",
        "ax[1].set_xlabel('relative mse')\n",
        "ax[1].set_ylabel('cdf')"
      ],
      "execution_count": null,
      "outputs": []
    },
    {
      "cell_type": "code",
      "metadata": {
        "id": "VNhPcZ9UqhVs"
      },
      "source": [
        "# plt.boxplot(relative_mse.cpu().detach().numpy())\n",
        "quantile_precent = [0.7,0.8,0.9,0.95, 0.99]\n",
        "quantile_mse = np.quantile(relative_mse.cpu().detach().numpy(), quantile_precent)\n",
        "print('relative mse for quantile', quantile_precent, '\\n', 'is', quantile_mse)"
      ],
      "execution_count": null,
      "outputs": []
    },
    {
      "cell_type": "markdown",
      "metadata": {
        "id": "K-zlscMvG0n0"
      },
      "source": [
        "## plot performance"
      ]
    },
    {
      "cell_type": "code",
      "metadata": {
        "collapsed": true,
        "id": "v-651BTvuZPe"
      },
      "source": [
        "sort_idx=np.argsort(relative_mse.cpu().detach().numpy())"
      ],
      "execution_count": null,
      "outputs": []
    },
    {
      "cell_type": "code",
      "metadata": {
        "id": "ct9awDi85Bvv"
      },
      "source": [
        "# randomly print 10 cases\n",
        "plt.ion()\n",
        "fig = plt.figure(figsize=(18,8), dpi=100)\n",
        "\n",
        "for i in range(10):\n",
        "    test_idx=random.randint(3, test_u.size()[0]-1)\n",
        "    y = test_u[test_idx:test_idx+1]\n",
        "    x = test_a[test_idx:test_idx+1]\n",
        "    x = x.cuda()\n",
        "    fault_info = test_a0[test_idx,5:7,0,22]\n",
        "    # print('type of fault', fault_info[0], '      index of line fault', fault_info[1])\n",
        "    fig=plt.figure(figsize=(11,5), dpi=100)\n",
        "    fig.suptitle('Swing Dynamics  idx='+str(test_idx)+'  line'+str( fault_info[1]))\n",
        "\n",
        "    TimeRecord=np.arange(0,y.size()[-1])*delta_t*sub_T\n",
        "    plt.subplot(2,3,1)\n",
        "    plt.plot(TimeRecord,torch.transpose(y[0,0,:,:],0,1))\n",
        "    plt.xlabel('time(s)')\n",
        "    plt.ylabel('delta(rad)')\n",
        "    plt.subplot(2,3,2)\n",
        "    plt.plot(TimeRecord,torch.transpose(y[0,1,:,:],0,1))\n",
        "    plt.xlabel('time(s)')\n",
        "    plt.ylabel('omega(Hz)')\n",
        "    plt.subplot(2,3,3)\n",
        "    plt.plot(TimeRecord,torch.transpose(y[0,2,:,:],0,1))\n",
        "    plt.xlabel('time(s)')\n",
        "    plt.ylabel('Voltage(p.u.)')\n",
        "    plt.subplot(2,3,4)\n",
        "    out = model(x)[0:1, full_idx_u, 0:dim_omega, 0:int(T/sub_T),0]\n",
        "    out = y_normalizer.decode(out)\n",
        "    plt.plot(TimeRecord,torch.transpose(out[0,0,:,:],0,1).cpu().detach().numpy())\n",
        "    plt.xlabel('time(s)')\n",
        "    plt.ylabel('delta(rad)')\n",
        "    plt.subplot(2,3,5)\n",
        "    plt.plot(TimeRecord,torch.transpose(out[0,1,:,:],0,1).cpu().detach().numpy())\n",
        "    plt.xlabel('time(s)')\n",
        "    plt.ylabel('omega(Hz)')\n",
        "    plt.subplot(2,3,6)\n",
        "    plt.plot(TimeRecord,torch.transpose(out[0,2,:,:],0,1).cpu().detach().numpy())\n",
        "    plt.xlabel('time(s)')\n",
        "    plt.ylabel('Voltage(p.u.)')\n",
        "    plt.tight_layout()\n",
        "    plt.subplots_adjust(top=0.9)\n",
        "    plt.show()\n",
        "    plt.pause(0.01)\n",
        "    plt.clf()\n",
        "\n",
        "\n"
      ],
      "execution_count": null,
      "outputs": []
    },
    {
      "cell_type": "code",
      "metadata": {
        "id": "CJckUXcr7qZu"
      },
      "source": [
        "# select all cases with frequency deviation larger than 2Hz to check prediction of unstable case\n",
        "Batch_delta_omaga_Time_max_last = np.amax(abs(Batch_delta_omaga_Time[n_test_start:n_test_start+ntest:,1,:,T0+T_in+T]),  axis=(-1))\n",
        "\n",
        "threshold_higher= 0.5\n",
        "idx_select_unstable = np.where((Batch_delta_omaga_Time_max_last>threshold_higher))\n",
        "\n",
        "# idx_select_unstable = np.where((Batch_delta_omaga_Time_max>threshold_higher))\n",
        "idx_select_unstable[0]"
      ],
      "execution_count": null,
      "outputs": []
    },
    {
      "cell_type": "markdown",
      "metadata": {
        "id": "24VBr62W56xJ"
      },
      "source": [
        "# Type1 and Type2 error"
      ]
    },
    {
      "cell_type": "code",
      "metadata": {
        "id": "UXpFYgmvL9_C"
      },
      "source": [
        "# type 1: unstable predicted to be stable\n",
        "# type 2: stable predicted to be unstable\n",
        "\n",
        "Batch_delta_omaga_Time_max_last = np.amax(abs(Batch_delta_omaga_Time[n_test_start:n_test_start+ntest:,1,:,T0+T_in+T]),  axis=(-1))\n",
        "threshold_higher = 0.2\n",
        "mean_idx = -20 # If the mean frequency deciation in the last 20 steps is larger than 0.2, than the case is unstable\n",
        "idx_select_unstable = np.where((Batch_delta_omaga_Time_max_last>threshold_higher))\n",
        "idx_select_unstable[0]\n",
        "x = test_a[idx_select_unstable[0]]\n",
        "x = x.cuda()\n",
        "out = model(x)[:, full_idx_u, 0:dim_omega, 0:int(T/sub_T),0]\n",
        "out = y_normalizer.decode(out)\n",
        "out = out.cpu().detach().numpy()\n",
        "predict_unstable = np.amax(np.mean(abs(out[:,1,:,mean_idx:-1]),axis=(-1)),  axis=(-1))>threshold_higher\n",
        "print('predict unstable wrong', 1-sum(predict_unstable)/np.shape(idx_select_unstable[0]))\n",
        "\n",
        "Batch_delta_omaga_Time_max_last = np.amax(abs(Batch_delta_omaga_Time[n_test_start:n_test_start+ntest:,1,:,T0+T_in+T]),  axis=(-1))\n",
        "threshold_higher = 0.2\n",
        "idx_select_stable = np.where((Batch_delta_omaga_Time_max_last<=threshold_higher))\n",
        "x = test_a[idx_select_stable[0]]\n",
        "x = x.cuda()\n",
        "out = model(x)[:, full_idx_u, 0:dim_omega, 0:int(T/sub_T),0]\n",
        "out = y_normalizer.decode(out)\n",
        "out = out.cpu().detach().numpy()\n",
        "predict_stable = np.amax(np.mean(abs(out[:,1,:,mean_idx:-1]),axis=(-1)),  axis=(-1))<threshold_higher\n",
        "\n",
        "print('predict stable wrong', 1-sum(predict_stable)/np.shape(idx_select_stable[0]))"
      ],
      "execution_count": null,
      "outputs": []
    },
    {
      "cell_type": "markdown",
      "metadata": {
        "id": "JxNj4daZzuiC"
      },
      "source": [
        "# Plot for paper"
      ]
    },
    {
      "cell_type": "code",
      "source": [],
      "metadata": {
        "id": "_U4i08_BaHiV"
      },
      "execution_count": null,
      "outputs": []
    },
    {
      "cell_type": "markdown",
      "source": [
        "### setup"
      ],
      "metadata": {
        "id": "VXerjQ6naHsx"
      }
    },
    {
      "cell_type": "code",
      "metadata": {
        "id": "Fnvng1Z9zwY9"
      },
      "source": [
        "test_l2 = 0.0\n",
        "with torch.no_grad():\n",
        "    for x, y in test_loader:\n",
        "        x, y = x.cuda(), y.cuda()\n",
        "        print(x.size())\n",
        "\n",
        "        out = model(x)[0:batch_size, full_idx_u, 0:dim_omega, 0:int(T/sub_T),0]\n",
        "        out = y_normalizer.decode(out)\n",
        "        batch_mse=torch.sum(torch.square(out-y),dim=(1,2,3))\n",
        "        y_square=torch.sum(torch.square(y),dim=(1,2,3))\n",
        "        relative_mse=batch_mse/y_square\n",
        "\n",
        "        batch_abs=torch.sum(torch.abs(out-y),dim=(1,2,3))\n",
        "        y_abs=torch.sum(torch.abs(y),dim=(1,2,3))\n",
        "        relative_abs=batch_abs/y_abs       \n",
        "print('average mse error', torch.mean(relative_mse))\n",
        "print('average abs error', torch.mean(relative_abs))\n"
      ],
      "execution_count": null,
      "outputs": []
    },
    {
      "cell_type": "code",
      "metadata": {
        "collapsed": true,
        "id": "yjxCbH1Uz7R0"
      },
      "source": [
        "out = out.cpu().detach().numpy()\n",
        "y= y.cpu().detach().numpy()"
      ],
      "execution_count": null,
      "outputs": []
    },
    {
      "cell_type": "markdown",
      "metadata": {
        "id": "v7x0XEOetHGF"
      },
      "source": [
        "The training data has been scaled with \\\\\n",
        "state_scale = 2*log2(state) if state>2 \\\\\n",
        "Therefore, the following code recover to the original unit"
      ]
    },
    {
      "cell_type": "code",
      "metadata": {
        "collapsed": true,
        "id": "bXl72BlrsxQX"
      },
      "source": [
        "scale_state_idx = [0,1]\n",
        "out[:,scale_state_idx,:,: ] = pow(2, out[:,scale_state_idx,:,: ]/2)*(out[:,scale_state_idx,:,: ]>2)+\\\n",
        "                              (out[:,scale_state_idx,:,: ])*(out[:,scale_state_idx,:,: ]<=2)\n",
        "y[:,scale_state_idx,:,: ] = pow(2, y[:,scale_state_idx,:,: ]/2)*(y[:,scale_state_idx,:,: ]>2)+\\\n",
        "                              (y[:,scale_state_idx,:,: ])*(y[:,scale_state_idx,:,: ]<=2)"
      ],
      "execution_count": null,
      "outputs": []
    },
    {
      "cell_type": "code",
      "metadata": {
        "id": "TsF3GcLItdj7"
      },
      "source": [
        "# load the information of the power system for plot\n",
        "# data formate can be found matpower link: \n",
        "data = sio.loadmat('/content/drive/MyDrive/Colab Notebooks/1. fourier neural operator/Real Case/NPCC/dataset/npcc_line.mat')\n",
        "line = data['line']\n",
        "line = np.asarray(line, dtype=np.float32)\n",
        "data = sio.loadmat('/content/drive/MyDrive/Colab Notebooks/1. fourier neural operator/Real Case/NPCC/dataset/npcc_mac.mat')\n",
        "mac_con = data['mac_con']\n",
        "mac_con = np.asarray(mac_con, dtype=np.float32)"
      ],
      "execution_count": null,
      "outputs": []
    },
    {
      "cell_type": "markdown",
      "metadata": {
        "id": "DRpFqa-XeQxa"
      },
      "source": [
        "## plot selected stable case"
      ]
    },
    {
      "cell_type": "code",
      "metadata": {
        "id": "8sg_AF1TWs-e"
      },
      "source": [
        "# test_idx =32\n",
        "test_idx =32\n",
        "\n",
        "test_a0=Batch_delta_omaga_Time[n_test_start:n_test_start+ntest:,idx_y_s:idx_y_e,idx_x_s:idx_x_e,0+T0:T_in+T0+T:sub_T]\n",
        "fault = test_a0[test_idx,6,0,:]\n",
        "# fault = test_a0[11,6,:,:]\n",
        "np.where(fault!=0) # the time step for the on-fault system"
      ],
      "execution_count": null,
      "outputs": []
    },
    {
      "cell_type": "code",
      "metadata": {
        "id": "X75xqo8vbnD3"
      },
      "source": [
        "fault_info = test_a0[test_idx,5:7,0,22]\n",
        "print('type of fault', fault_info[0], '      index of line fault', fault_info[1])"
      ],
      "execution_count": null,
      "outputs": []
    },
    {
      "cell_type": "code",
      "metadata": {
        "id": "kvVEtzykt0Hs"
      },
      "source": [
        "# fault bus\n",
        "line[int(fault_info[1])-1][0:2]"
      ],
      "execution_count": null,
      "outputs": []
    },
    {
      "cell_type": "code",
      "metadata": {
        "id": "D_BXAyIFknfW"
      },
      "source": [
        "state_idx=1 # select envolope  from frequency deviation \n",
        "# test_idx = 97\n",
        "idx_min=list(dict.fromkeys(np.argmin(y[test_idx,state_idx,:,:],0)))\n",
        "print('idx_min',idx_min)\n",
        "\n",
        "idx_max=list(dict.fromkeys(np.argmax(y[test_idx,state_idx,:,:],0)))\n",
        "print('idx_max',idx_max)\n"
      ],
      "execution_count": null,
      "outputs": []
    },
    {
      "cell_type": "code",
      "source": [
        "state_idx=0\n",
        "idx_min=list(dict.fromkeys(np.argmin(y[test_idx,state_idx,:,:],0)))\n",
        "print('idx_min',idx_min)\n",
        "\n",
        "idx_max=list(dict.fromkeys(np.argmax(y[test_idx,state_idx,:,:],0)))\n",
        "print('idx_max',idx_max)"
      ],
      "metadata": {
        "id": "U4nlPJCOLpl3"
      },
      "execution_count": null,
      "outputs": []
    },
    {
      "cell_type": "code",
      "metadata": {
        "collapsed": true,
        "id": "JE6gr6C8k2Q_"
      },
      "source": [
        "\n",
        "bus_select = [30, 15, 23, 0, 33,  20, 4,19,34, 26]\n",
        "\n",
        "bus_select.sort()\n",
        "bus_select_index = mac_con[bus_select,1].astype(int)\n",
        "\n",
        "bus_select_legend = ['bus '+str(i) for i in bus_select_index ]\n",
        "print(bus_select_index)\n",
        "print(bus_select )"
      ],
      "execution_count": null,
      "outputs": []
    },
    {
      "cell_type": "code",
      "source": [
        "mpl.rcParams['axes.prop_cycle'] = cycler(color=[ '#d62728', '#e377c2','#2ca02c','#ff7f0e',   '#9467bd', '#8c564b', '#1f77b4','#7f7f7f', '#bcbd22', '#17becf'])\n",
        "\n",
        "fig=plt.figure(figsize=(11,5), dpi=100)\n",
        "TimeRecord=np.arange(0,np.shape(y)[-1])*delta_t*sub_T\n",
        "plt.subplot(2,3,1)\n",
        "# fig, ax = plt.subplots()\n",
        "mpl.pyplot.fill_between(TimeRecord, np.max(y[test_idx,0,:,:],0), np.min(y[test_idx,0,:,:],0), color='grey', alpha=0.1)\n",
        "plt.plot(TimeRecord,y[test_idx,0,bus_select,:].T)\n",
        "plt.xlabel('time(s)')\n",
        "plt.ylabel('$\\delta(rad)$')\n",
        "# plt.ylim([0,2.5])\n",
        "\n",
        "plt.subplot(2,3,2)\n",
        "mpl.pyplot.fill_between(TimeRecord, np.max(y[test_idx,1,:,:],0), np.min(y[test_idx,1,:,:],0), color='grey', alpha=0.1)\n",
        "plt.plot(TimeRecord,y[test_idx,1,bus_select,:].T)\n",
        "plt.xlabel('time(s)')\n",
        "plt.ylabel('$\\omega(Hz)$')\n",
        "# plt.ylim([-0.52,0.6])\n",
        "\n",
        "plt.subplot(2,3,3)\n",
        "mpl.pyplot.fill_between(TimeRecord, np.max(y[test_idx,2,:,:],0), np.min(y[test_idx,2,:,:],0), color='grey', alpha=0.1)\n",
        "plt.plot(TimeRecord,y[test_idx,2,bus_select,:].T)\n",
        "plt.xlabel('time(s)')\n",
        "plt.ylabel('V(p.u.)')\n",
        "plt.legend(bus_select_legend, prop={'size': 8.2}, loc = (0.3, 0.02), ncol=2 )\n",
        "\n",
        "plt.subplot(2,3,4)\n",
        "mpl.pyplot.fill_between(TimeRecord, np.max(out[test_idx,0,:,:],0), np.min(out[test_idx,0,:,:],0), color='grey', alpha=0.1)\n",
        "plt.plot(TimeRecord,out[test_idx,0,bus_select,:].T)\n",
        "plt.xlabel('time(s)')\n",
        "plt.ylabel('$\\delta$(rad)')\n",
        "# plt.ylim([0,2.5])\n",
        "\n",
        "plt.subplot(2,3,5)\n",
        "mpl.pyplot.fill_between(TimeRecord, np.max(out[test_idx,1,:,:],0), np.min(out[test_idx,1,:,:],0), color='grey', alpha=0.1)\n",
        "plt.plot(TimeRecord,out[test_idx,1,bus_select,:].T)\n",
        "# plt.ylim([-0.52,0.6])\n",
        "plt.xlabel('time(s)')\n",
        "plt.ylabel('$\\omega$(Hz)')\n",
        "plt.subplot(2,3,6)\n",
        "mpl.pyplot.fill_between(TimeRecord, np.max(out[test_idx,2,:,:],0), np.min(out[test_idx,2,:,:],0), color='grey', alpha=0.1)\n",
        "lines = plt.plot(TimeRecord,out[test_idx,2,bus_select,:].T)# plt.xlabel('time(s)')\n",
        "plt.legend(bus_select_legend, prop={'size': 8.2}, loc = (0.3, 0.02), ncol=2 )\n",
        "plt.ylabel('V(p.u.)')\n",
        "# fig.canvas.draw()\n",
        "# # fig.canvas.flush_events()\n",
        "# fig.legend( lines, bus_select, loc = (0.15, 0.9), ncol=10 )\n",
        "\n",
        "plt.tight_layout()\n",
        "plt.subplots_adjust(top=0.9)\n",
        "# plt.show()\n",
        "\n",
        "plt.savefig('/content/drive/MyDrive/Colab Notebooks/1. fourier neural operator/3. TPS_revise_v2\\\n",
        "/figure/stable_dyn.png', bbox_inches='tight', dpi=600)  \n"
      ],
      "metadata": {
        "id": "fbK-OlaZNgvQ"
      },
      "execution_count": null,
      "outputs": []
    },
    {
      "cell_type": "code",
      "source": [],
      "metadata": {
        "id": "5FcVv1_GBMRK"
      },
      "execution_count": null,
      "outputs": []
    },
    {
      "cell_type": "markdown",
      "source": [
        "## frequency domain"
      ],
      "metadata": {
        "id": "NViyVJaJBMtj"
      }
    },
    {
      "cell_type": "code",
      "source": [
        "from scipy.fft import fft, fftfreq\n",
        "# Number of sample points\n",
        "N = 150\n",
        "# sample spacing\n",
        "Delta_t = delta_t*sub_T\n",
        "x = np.linspace(0.0, N*Delta_t, N, endpoint=False)\n",
        "\n",
        "xf = fftfreq(N, Delta_t)[:N//2]\n"
      ],
      "metadata": {
        "id": "SV4F-LlbJqVM"
      },
      "execution_count": null,
      "outputs": []
    },
    {
      "cell_type": "code",
      "source": [
        "fft_y = 2.0 * np.abs(fft(y[test_idx,:,:,:])[:,:,0:N//2])"
      ],
      "metadata": {
        "id": "ZvomYaECKn8o"
      },
      "execution_count": null,
      "outputs": []
    },
    {
      "cell_type": "code",
      "source": [
        "fft_out = 2.0 * np.abs(fft(out[test_idx,:,:,:])[:,:,0:N//2])\n"
      ],
      "metadata": {
        "id": "Tr5abn2WK36K"
      },
      "execution_count": null,
      "outputs": []
    },
    {
      "cell_type": "code",
      "source": [
        "fft_y = np.fft.fft(y[test_idx,:,:,:])\n",
        "fft_out = np.fft.fft(out[test_idx,:,:,:])\n"
      ],
      "metadata": {
        "id": "Y4SB3KXgBOdR"
      },
      "execution_count": null,
      "outputs": []
    },
    {
      "cell_type": "code",
      "source": [
        "freq = np.fft.fftfreq((y[test_idx,1,:,:]).shape[-1])"
      ],
      "metadata": {
        "id": "jmbjlWhnD65W"
      },
      "execution_count": null,
      "outputs": []
    },
    {
      "cell_type": "code",
      "source": [
        "mpl.rcParams['axes.prop_cycle'] = cycler(color=[ '#d62728', '#e377c2','#2ca02c','#ff7f0e',   '#9467bd', '#8c564b', '#1f77b4','#7f7f7f', '#bcbd22', '#17becf'])\n",
        "step_bound_lower = 0\n",
        "step_bound_upper = 75\n",
        "one_side_change = 2\n",
        "fig=plt.figure(figsize=(11,5), dpi=100)\n",
        "TimeRecord=xf\n",
        "TimeRecord=(freq[step_bound_lower:step_bound_upper])*150/(delta_t*sub_T*150)\n",
        "plt.subplot(2,3,1)\n",
        "# fig, ax = plt.subplots()\n",
        "# mpl.pyplot.fill_between(TimeRecord, np.max(y[test_idx,0,:,:],0), np.min(y[test_idx,0,:,:],0), color='grey', alpha=0.1)\n",
        "plt.plot(TimeRecord, one_side_change*fft_y[0,bus_select,step_bound_lower:step_bound_upper].T)\n",
        "plt.xlabel('Freq(Hz)')\n",
        "plt.ylabel('$\\mathcal{F}(\\delta)$')\n",
        "# plt.ylim([0,2.5])\n",
        "\n",
        "plt.subplot(2,3,2)\n",
        "# mpl.pyplot.fill_between(TimeRecord, np.max(y[test_idx,1,:,:],0), np.min(y[test_idx,1,:,:],0), color='grey', alpha=0.1)\n",
        "plt.plot(TimeRecord,one_side_change*fft_y[1,bus_select,step_bound_lower:step_bound_upper].T)\n",
        "plt.xlabel('Freq(Hz)')\n",
        "plt.ylabel('$\\mathcal{F}(\\omega)$')\n",
        "# plt.ylim([-0.52,0.6])\n",
        "\n",
        "plt.subplot(2,3,3)\n",
        "# mpl.pyplot.fill_between(TimeRecord, np.max(y[test_idx,2,:,:],0), np.min(y[test_idx,2,:,:],0), color='grey', alpha=0.1)\n",
        "plt.plot(TimeRecord,one_side_change*fft_y[2,bus_select,step_bound_lower:step_bound_upper].T)\n",
        "plt.xlabel('Freq(Hz)')\n",
        "plt.ylabel('$\\mathcal{F}(V)$')\n",
        "# plt.legend(bus_select_legend, prop={'size': 8.2}, loc = (0.3, 0.02), ncol=2 )\n",
        "\n",
        "plt.subplot(2,3,4)\n",
        "# mpl.pyplot.fill_between(TimeRecord, np.max(out[test_idx,0,:,:],0), np.min(out[test_idx,0,:,:],0), color='grey', alpha=0.1)\n",
        "plt.plot(TimeRecord,one_side_change*fft_out[0,bus_select,step_bound_lower:step_bound_upper].T)\n",
        "plt.xlabel('Freq(Hz)')\n",
        "plt.ylabel('$\\mathcal{F}(\\delta)$')\n",
        "# plt.ylim([0,2.5])\n",
        "\n",
        "plt.subplot(2,3,5)\n",
        "# mpl.pyplot.fill_between(TimeRecord, np.max(out[test_idx,1,:,:],0), np.min(out[test_idx,1,:,:],0), color='grey', alpha=0.1)\n",
        "plt.plot(TimeRecord,one_side_change*fft_out[1,bus_select,step_bound_lower:step_bound_upper].T)\n",
        "# plt.ylim([-0.52,0.6])\n",
        "plt.xlabel('Freq(Hz)')\n",
        "plt.ylabel('$\\mathcal{F}(\\omega)$')\n",
        "plt.subplot(2,3,6)\n",
        "# mpl.pyplot.fill_between(TimeRecord, np.max(out[test_idx,2,:,:],0), np.min(out[test_idx,2,:,:],0), color='grey', alpha=0.1)\n",
        "lines = plt.plot(TimeRecord,one_side_change*fft_out[2,bus_select,step_bound_lower:step_bound_upper].T)# plt.xlabel('time(s)')\n",
        "# plt.legend(bus_select_legend, prop={'size': 8.2}, loc = (0.3, 0.02), ncol=2 )\n",
        "plt.ylabel('$\\mathcal{F}(V)$')\n",
        "# fig.canvas.draw()\n",
        "# # fig.canvas.flush_events()\n",
        "# fig.legend( lines, bus_select, loc = (0.15, 0.9), ncol=10 )\n",
        "\n",
        "plt.tight_layout()\n",
        "plt.subplots_adjust(top=0.9)\n",
        "# plt.show()\n",
        "\n",
        "plt.savefig('/content/drive/MyDrive/Colab Notebooks/1. fourier neural operator/2. TPS_revise/figure/freq_stable_dyn.png', bbox_inches='tight', dpi=600)  \n"
      ],
      "metadata": {
        "id": "pzjnW3NwJmK8"
      },
      "execution_count": null,
      "outputs": []
    },
    {
      "cell_type": "code",
      "source": [
        "mpl.rcParams['axes.prop_cycle'] = cycler(color=[ '#d62728', '#e377c2','#2ca02c','#ff7f0e',   '#9467bd', '#8c564b', '#1f77b4','#7f7f7f', '#bcbd22', '#17becf'])\n",
        "step_bound_lower = 0\n",
        "step_bound_upper = int(150/2)\n",
        "one_side_change = 2\n",
        "fig=plt.figure(figsize=(11,5), dpi=100)\n",
        "TimeRecord=xf\n",
        "TimeRecord=(freq[step_bound_lower:step_bound_upper])*150/(delta_t*sub_T*150)\n",
        "plt.subplot(2,3,1)\n",
        "mpl.pyplot.fill_between(TimeRecord, np.max(fft_y[0,:,step_bound_lower:step_bound_upper],0),\n",
        "                        np.min(fft_y[0,:,step_bound_lower:step_bound_upper],0), color='grey', alpha=0.1)\n",
        "plt.plot(TimeRecord, one_side_change*fft_y[0,bus_select,step_bound_lower:step_bound_upper].T)\n",
        "plt.xlabel('Freq(Hz)')\n",
        "plt.ylabel('$\\mathcal{F}(\\delta)$')\n",
        "# plt.ylim([0,2.5])\n",
        "\n",
        "plt.subplot(2,3,2)\n",
        "mpl.pyplot.fill_between(TimeRecord, np.max(fft_y[1,:,step_bound_lower:step_bound_upper],0), \n",
        "                        np.min(fft_y[1,:,step_bound_lower:step_bound_upper],0), color='grey', alpha=0.1)\n",
        "plt.plot(TimeRecord,one_side_change*fft_y[1,bus_select,step_bound_lower:step_bound_upper].T)\n",
        "plt.xlabel('Freq(Hz)')\n",
        "plt.ylabel('$\\mathcal{F}(\\omega)$')\n",
        "\n",
        "plt.subplot(2,3,3)\n",
        "mpl.pyplot.fill_between(TimeRecord, np.max(fft_y[2,:,step_bound_lower:step_bound_upper],0), \n",
        "                        np.min(fft_y[2,:,step_bound_lower:step_bound_upper],0), color='grey', alpha=0.1)\n",
        "plt.plot(TimeRecord,one_side_change*fft_y[2,bus_select,step_bound_lower:step_bound_upper].T)\n",
        "plt.xlabel('Freq(Hz)')\n",
        "plt.ylabel('$\\mathcal{F}(V)$')\n",
        "plt.legend(bus_select_legend, prop={'size': 8.2}, loc = (0.3, 0.32), ncol=2 )\n",
        "\n",
        "plt.subplot(2,3,4)\n",
        "mpl.pyplot.fill_between(TimeRecord, np.max(fft_out[0,:,step_bound_lower:step_bound_upper],0),\n",
        "                        np.min(fft_out[0,:,step_bound_lower:step_bound_upper],0), color='grey', alpha=0.1)\n",
        "plt.plot(TimeRecord,one_side_change*fft_out[0,bus_select,step_bound_lower:step_bound_upper].T)\n",
        "plt.xlabel('Freq(Hz)')\n",
        "plt.ylabel('$\\mathcal{F}(\\delta)$')\n",
        "\n",
        "plt.subplot(2,3,5)\n",
        "mpl.pyplot.fill_between(TimeRecord, np.max(fft_out[1,:,step_bound_lower:step_bound_upper],0), \n",
        "                        np.min(fft_out[1,:,step_bound_lower:step_bound_upper],0), color='grey', alpha=0.1)\n",
        "plt.plot(TimeRecord,one_side_change*fft_out[1,bus_select,step_bound_lower:step_bound_upper].T)\n",
        "plt.xlabel('Freq(Hz)')\n",
        "plt.ylabel('$\\mathcal{F}(\\omega)$')\n",
        "plt.subplot(2,3,6)\n",
        "mpl.pyplot.fill_between(TimeRecord, np.max(fft_out[2,:,step_bound_lower:step_bound_upper],0), \n",
        "                        np.min(fft_out[2,:,step_bound_lower:step_bound_upper],0), color='grey', alpha=0.1)\n",
        "lines = plt.plot(TimeRecord,one_side_change*fft_out[2,bus_select,step_bound_lower:step_bound_upper].T)# plt.xlabel('time(s)')\n",
        "plt.legend(bus_select_legend, prop={'size': 8.2}, loc = (0.3, 0.32), ncol=2 )\n",
        "plt.ylabel('$\\mathcal{F}(V)$')\n",
        "\n",
        "plt.tight_layout()\n",
        "plt.subplots_adjust(top=0.9)\n",
        "\n",
        "plt.savefig('/content/drive/MyDrive/Colab Notebooks/1. fourier neural operator\\\n",
        "/2. TPS_revise/figure/freq_stable_dyn.png', bbox_inches='tight', dpi=600)  \n"
      ],
      "metadata": {
        "id": "jgH5lgEqdfix"
      },
      "execution_count": null,
      "outputs": []
    },
    {
      "cell_type": "markdown",
      "metadata": {
        "id": "iLV8lhkS4ny7"
      },
      "source": [
        "# Plot stressed case"
      ]
    },
    {
      "cell_type": "markdown",
      "source": [
        "## setup"
      ],
      "metadata": {
        "id": "aeZH7ZLv4k6y"
      }
    },
    {
      "cell_type": "code",
      "metadata": {
        "id": "1PCQ49AF4ny7"
      },
      "source": [
        "ntest = np.shape(Batch_delta_omaga_Time_stresses)[0]\n",
        "\n",
        "test_a_stresses=torch.from_numpy(Batch_delta_omaga_Time_stresses[:,idx_y_s:idx_y_e,idx_x_s:idx_x_e,0+T0:T_in+T0:sub_T]).float()\n",
        "test_u_stresses=torch.from_numpy(Batch_delta_omaga_Time_stresses[:,full_idx_u,idx_x_s:idx_x_e,T_in+T0:T+T_in+T0:sub_T]).float()\n",
        "test_u_line_stresses=torch.from_numpy(Batch_delta_omaga_Time_stresses[:,5:6,idx_x_s:idx_x_e,T_in+T0:T+T_in+T0:sub_T]).float()\n",
        "test_u_lineidx_stresses=torch.from_numpy(Batch_delta_omaga_Time_stresses[:,6:7,idx_x_s:idx_x_e,T_in+T0:T+T_in+T0:sub_T]).float()\n",
        "\n",
        "\n",
        "test_a_stresses = test_a_stresses.reshape(ntest,dim_delta,dim_omega,1,int(T_in/sub_T)).repeat([1,1,1,int(T/sub_T),1])\n",
        "test_u_line_stresses = test_u_line_stresses.reshape(ntest,1,dim_omega,int(T/sub_T),1).repeat([1,dim_delta,1,1,1])\n",
        "test_u_lineidx_stresses = test_u_lineidx_stresses.reshape(ntest,1,dim_omega,int(T/sub_T),1).repeat([1,dim_delta,1,1,1])\n",
        "# attach the future line fault and fault type information to be two addtional input\n",
        "test_a_stresses = torch.cat((test_u_lineidx_stresses, test_u_line_stresses, test_a_stresses), dim=-1)\n",
        "test_a_stresses = a_normalizer.encode(test_a_stresses)\n",
        "test_a_stresses = torch.cat((gridt.repeat([ntest,1,1,1,1]), test_a_stresses), dim=-1)\n",
        "test_loader_stresses = torch.utils.data.DataLoader(torch.utils.data.TensorDataset(test_a_stresses, test_u_stresses), batch_size=batch_size, shuffle=False)\n"
      ],
      "execution_count": null,
      "outputs": []
    },
    {
      "cell_type": "code",
      "source": [
        "test_l2 = 0.0\n",
        "with torch.no_grad():\n",
        "    for x, y in test_loader_stresses:\n",
        "        x, y = x.cuda(), y.cuda()\n",
        "        print(x.size())\n",
        "\n",
        "        out = model(x)[0:batch_size, full_idx_u, 0:dim_omega, 0:int(T/sub_T),0]\n",
        "        out = y_normalizer.decode(out)\n",
        "        batch_mse = torch.sum(torch.square(out-y),dim=(1,2,3))\n",
        "        y_square = torch.sum(torch.square(y),dim=(1,2,3))\n",
        "        relative_mse = batch_mse/y_square\n",
        "\n",
        "        batch_abs = torch.sum(torch.abs(out-y),dim=(1,2,3))\n",
        "        y_abs = torch.sum(torch.abs(y),dim=(1,2,3))\n",
        "        relative_abs = batch_abs/y_abs       \n",
        "        # test_l2 += myloss(out.view(batch_size, -1), y.view(batch_size, -1)).item()\n",
        "print('average mse error', torch.mean(relative_mse))\n",
        "print('average abs error', torch.mean(relative_abs))\n"
      ],
      "metadata": {
        "id": "TydZDr494vgB"
      },
      "execution_count": null,
      "outputs": []
    },
    {
      "cell_type": "code",
      "metadata": {
        "collapsed": true,
        "id": "7AJfSWXp4ny7"
      },
      "source": [
        "out = out.cpu().detach().numpy()\n",
        "y= y.cpu().detach().numpy()"
      ],
      "execution_count": null,
      "outputs": []
    },
    {
      "cell_type": "markdown",
      "metadata": {
        "id": "QTYg3pPx4ny7"
      },
      "source": [
        "The training data has been scaled with \\\\\n",
        "state_scale = 2*log2(state) if state>2 \\\\\n",
        "Therefore, the following code recover to the original unit"
      ]
    },
    {
      "cell_type": "code",
      "metadata": {
        "collapsed": true,
        "id": "NNMYouJF4ny8"
      },
      "source": [
        "scale_state_idx = [0,1]\n",
        "out[:,scale_state_idx,:,: ] = pow(2, out[:,scale_state_idx,:,: ]/2)*(out[:,scale_state_idx,:,: ]>2)+\\\n",
        "                              (out[:,scale_state_idx,:,: ])*(out[:,scale_state_idx,:,: ]<=2)\n",
        "y[:,scale_state_idx,:,: ] = pow(2, y[:,scale_state_idx,:,: ]/2)*(y[:,scale_state_idx,:,: ]>2)+\\\n",
        "                              (y[:,scale_state_idx,:,: ])*(y[:,scale_state_idx,:,: ]<=2)"
      ],
      "execution_count": null,
      "outputs": []
    },
    {
      "cell_type": "code",
      "metadata": {
        "id": "tjEKSHNl4ny8"
      },
      "source": [
        "# load the information of the power system for plot\n",
        "# data formate can be found matpower link: \n",
        "data = sio.loadmat('/content/drive/MyDrive/Colab Notebooks/1. fourier neural operator/Real Case/NPCC/dataset/npcc_line.mat')\n",
        "line = data['line']\n",
        "line = np.asarray(line, dtype=np.float32)\n",
        "data = sio.loadmat('/content/drive/MyDrive/Colab Notebooks/1. fourier neural operator/Real Case/NPCC/dataset/npcc_mac.mat')\n",
        "mac_con = data['mac_con']\n",
        "mac_con = np.asarray(mac_con, dtype=np.float32)"
      ],
      "execution_count": null,
      "outputs": []
    },
    {
      "cell_type": "markdown",
      "metadata": {
        "id": "vU89uNZI4ny8"
      },
      "source": [
        "## plot selected unstable case"
      ]
    },
    {
      "cell_type": "code",
      "metadata": {
        "id": "wnd693_E4ny8"
      },
      "source": [
        "test_idx =54\n",
        "test_a0=Batch_delta_omaga_Time_stresses[:,idx_y_s:idx_y_e,idx_x_s:idx_x_e,0+T0:T_in+T0+T:sub_T]\n",
        "fault = test_a0[test_idx,6,0,:]\n",
        "# fault = test_a0[11,6,:,:]\n",
        "np.where(fault!=0) # the time step for the on-fault system"
      ],
      "execution_count": null,
      "outputs": []
    },
    {
      "cell_type": "code",
      "metadata": {
        "id": "ldjd7B4V4ny8"
      },
      "source": [
        "fault_info = test_a0[test_idx,5:7,0,22]\n",
        "print('type of fault', fault_info[0], '      index of line fault', fault_info[1])"
      ],
      "execution_count": null,
      "outputs": []
    },
    {
      "cell_type": "code",
      "metadata": {
        "id": "IfDd7lJ84ny8"
      },
      "source": [
        "# fault bus\n",
        "line[int(fault_info[1])-1][0:2]"
      ],
      "execution_count": null,
      "outputs": []
    },
    {
      "cell_type": "code",
      "metadata": {
        "id": "9yCkvBfD4ny8"
      },
      "source": [
        "state_idx=1 # select envolope  from frequency deviation \n",
        "idx_min=list(dict.fromkeys(np.argmin(y[test_idx,state_idx,:,:],0)))\n",
        "print('idx_min',idx_min)\n",
        "\n",
        "idx_max=list(dict.fromkeys(np.argmax(y[test_idx,state_idx,:,:],0)))\n",
        "print('idx_max',idx_max)\n"
      ],
      "execution_count": null,
      "outputs": []
    },
    {
      "cell_type": "code",
      "metadata": {
        "collapsed": true,
        "id": "ye3MJpZ94ny8"
      },
      "source": [
        "\n",
        "# bus_select = [38, 42, 29, 27, 45, 42, 29, 27, 28, 4,12]\n",
        "bus_select = [42, 29, 27,  4, 7, 26, 8,   38,  12, 33]\n",
        "\n",
        "bus_select.sort()\n",
        "bus_select_index = mac_con[bus_select,1].astype(int)\n",
        "\n",
        "bus_select_legend = ['bus '+str(i) for i in bus_select_index ]"
      ],
      "execution_count": null,
      "outputs": []
    },
    {
      "cell_type": "code",
      "metadata": {
        "id": "OqRB28n14ny8"
      },
      "source": [
        "mpl.rcParams['axes.prop_cycle'] = cycler(color=[ '#d62728', '#e377c2','#2ca02c','#ff7f0e',   '#9467bd', '#8c564b', '#1f77b4','#7f7f7f', '#bcbd22', '#17becf'])\n",
        "end_time = 105\n",
        "# end_time = np.shape(y)[-1]\n",
        "fig=plt.figure(figsize=(11,5), dpi=100)\n",
        "TimeRecord=np.arange(0,end_time )*delta_t*sub_T\n",
        "plt.subplot(2,3,1)\n",
        "# fig, ax = plt.subplots()\n",
        "mpl.pyplot.fill_between(TimeRecord, np.max(y[test_idx,0,:,:end_time ],0), np.min(y[test_idx,0,:,:end_time ],0), color='grey', alpha=0.1)\n",
        "plt.plot(TimeRecord,y[test_idx,0,bus_select,:end_time ].T)\n",
        "plt.xlabel('time(s)')\n",
        "plt.ylabel('$\\delta(rad)$')\n",
        "plt.ylim([-2,4.2])\n",
        "\n",
        "plt.subplot(2,3,2)\n",
        "mpl.pyplot.fill_between(TimeRecord, np.max(y[test_idx,1,:,:end_time ],0), np.min(y[test_idx,1,:,:end_time ],0), color='grey', alpha=0.1)\n",
        "plt.plot(TimeRecord,y[test_idx,1,bus_select,:end_time ].T)\n",
        "plt.xlabel('time(s)')\n",
        "plt.ylabel('$\\omega(Hz)$')\n",
        "plt.ylim([-0.7,0.7])\n",
        "plt.legend(bus_select_legend, prop={'size': 8.2}, loc = (0.3, 0.02), ncol=2 )\n",
        "\n",
        "plt.subplot(2,3,3)\n",
        "mpl.pyplot.fill_between(TimeRecord, np.max(y[test_idx,2,:,:end_time ],0), np.min(y[test_idx,2,:,:end_time ],0), color='grey', alpha=0.1)\n",
        "plt.plot(TimeRecord,y[test_idx,2,bus_select,:end_time ].T)\n",
        "plt.xlabel('time(s)')\n",
        "plt.ylabel('V(p.u.)')\n",
        "\n",
        "plt.subplot(2,3,4)\n",
        "mpl.pyplot.fill_between(TimeRecord, np.max(out[test_idx,0,:,:end_time ],0), np.min(out[test_idx,0,:,:end_time ],0), color='grey', alpha=0.1)\n",
        "plt.plot(TimeRecord,out[test_idx,0,bus_select,:end_time ].T)\n",
        "plt.xlabel('time(s)')\n",
        "plt.ylabel('$\\delta$(rad)')\n",
        "plt.ylim([-2,4.2])\n",
        "\n",
        "plt.subplot(2,3,5)\n",
        "mpl.pyplot.fill_between(TimeRecord, np.max(out[test_idx,1,:,:end_time ],0), np.min(out[test_idx,1,:,:end_time ],0), color='grey', alpha=0.1)\n",
        "plt.plot(TimeRecord,out[test_idx,1,bus_select,:end_time ].T)\n",
        "plt.ylim([-0.7,0.7])\n",
        "plt.xlabel('time(s)')\n",
        "plt.ylabel('$\\omega$(Hz)')\n",
        "plt.legend(bus_select_legend, prop={'size': 8.2}, loc = (0.3, 0.02), ncol=2 )\n",
        "\n",
        "plt.subplot(2,3,6)\n",
        "mpl.pyplot.fill_between(TimeRecord, np.max(out[test_idx,2,:,:end_time ],0), np.min(out[test_idx,2,:,:end_time ],0), color='grey', alpha=0.1)\n",
        "lines = plt.plot(TimeRecord,out[test_idx,2,bus_select,:end_time ].T)# plt.xlabel('time(s)')\n",
        "plt.ylabel('V(p.u.)')\n",
        "# fig.canvas.draw()\n",
        "# # fig.canvas.flush_events()\n",
        "# fig.legend( lines, bus_select, loc = (0.15, 0.9), ncol=10 )\n",
        "\n",
        "plt.tight_layout()\n",
        "plt.subplots_adjust(top=0.9)\n",
        "# plt.show()\n",
        "plt.savefig('/content/drive/MyDrive/Colab Notebooks/1. fourier neural operator/2. TPS_revise/figure/unstable_dyn.png', bbox_inches='tight', dpi=600)  \n",
        "\n",
        "# plt.savefig('/content/drive/MyDrive/fourier neural operator/figure/unstable_dyn.png', bbox_inches='tight', dpi=600)  \n"
      ],
      "execution_count": null,
      "outputs": []
    },
    {
      "cell_type": "code",
      "source": [],
      "metadata": {
        "id": "BPKnx8uD_tHC"
      },
      "execution_count": null,
      "outputs": []
    },
    {
      "cell_type": "markdown",
      "metadata": {
        "id": "X97f23UB_tZp"
      },
      "source": [
        "## plot three boundary case"
      ]
    },
    {
      "cell_type": "markdown",
      "source": [
        "#### setup"
      ],
      "metadata": {
        "id": "544GunYc4pum"
      }
    },
    {
      "cell_type": "code",
      "metadata": {
        "id": "UwC3flnE_tZq"
      },
      "source": [
        "test_idx = 54\n",
        "test_idx_unstable =54\n",
        "test_idx_stable = 88\n",
        "test_a0=Batch_delta_omaga_Time_stresses[:,idx_y_s:idx_y_e,idx_x_s:idx_x_e,0+T0:T_in+T0+T:sub_T]\n",
        "fault = test_a0[test_idx,6,0,:]\n",
        "np.where(fault!=0) # the time step for the on-fault system"
      ],
      "execution_count": null,
      "outputs": []
    },
    {
      "cell_type": "code",
      "metadata": {
        "id": "qI7m0Uv3_tZq"
      },
      "source": [
        "fault_info = test_a0[test_idx,5:7,0,22]\n",
        "print('type of fault', fault_info[0], '      index of line fault', fault_info[1])"
      ],
      "execution_count": null,
      "outputs": []
    },
    {
      "cell_type": "code",
      "metadata": {
        "id": "tOVsxbx8_tZq"
      },
      "source": [
        "# fault bus\n",
        "line[int(fault_info[1])-1][0:2]"
      ],
      "execution_count": null,
      "outputs": []
    },
    {
      "cell_type": "code",
      "metadata": {
        "id": "tA4UzNC7_tZq"
      },
      "source": [
        "state_idx=1 # select envolope  from frequency deviation \n",
        "idx_min=list(dict.fromkeys(np.argmin(y[test_idx,state_idx,:,:],0)))\n",
        "print('idx_min',idx_min)\n",
        "\n",
        "idx_max=list(dict.fromkeys(np.argmax(y[test_idx,state_idx,:,:],0)))\n",
        "# idx_max=list(dict.fromkeys(np.argmax(out[test_idx,state_idx,:,:],0)))\n",
        "\n",
        "print('idx_max',idx_max)\n"
      ],
      "execution_count": null,
      "outputs": []
    },
    {
      "cell_type": "code",
      "metadata": {
        "collapsed": true,
        "id": "1Y1G9HPm_tZq"
      },
      "source": [
        "\n",
        "bus_select = [42, 29, 27,  4, 7, 26, 8,   38,  12, 33]\n",
        "\n",
        "# bus_select_index = bus_select\n",
        "bus_select.sort()\n",
        "bus_select_index = mac_con[bus_select,1].astype(int)\n",
        "\n",
        "bus_select_legend = ['bus '+str(i) for i in bus_select_index ]"
      ],
      "execution_count": null,
      "outputs": []
    },
    {
      "cell_type": "markdown",
      "source": [
        "#### combine"
      ],
      "metadata": {
        "id": "AdP8s86GCO2W"
      }
    },
    {
      "cell_type": "code",
      "source": [
        "mpl.rcParams['axes.prop_cycle'] = cycler(color=[ '#d62728', '#e377c2','#2ca02c','#ff7f0e',   '#9467bd', \n",
        "                                                '#8c564b', '#7f7f7f','#17becf', '#bcbd22', '#1f77b4'])\n",
        "ylim_high = 0.7\n",
        "ylim_low =-0.7\n",
        "\n",
        "fig=plt.figure(figsize=(3.5,5), dpi=100)\n",
        "TimeRecord=np.arange(0,np.shape(y)[-1])*delta_t*sub_T\n",
        "plt.subplot(2,1,1)\n",
        "\n",
        "mpl.pyplot.fill_between(TimeRecord, np.max(y[test_idx_stable,1,:,:],0), np.min(out[test_idx_stable,1,:,:],0), color='grey', alpha=0.1)\n",
        "plt.plot(TimeRecord,y[test_idx_stable,1,bus_select,:].T)\n",
        "plt.ylim([ylim_low,ylim_high])\n",
        "plt.xlabel('time(s)')\n",
        "plt.ylabel('$\\omega$(Hz)')\n",
        "plt.title('stressed-stable', fontdict = {'fontsize' : 12})\n",
        "\n",
        "plt.legend(bus_select_legend, prop={'size': 7.5}, loc = (0.3, 0.0), ncol=2 )\n",
        "\n",
        "\n",
        "ylim_high = 1.4\n",
        "ylim_low =-0.7\n",
        "plt.subplot(2,1,2)\n",
        "mpl.pyplot.fill_between(TimeRecord, np.max(y[test_idx_unstable,1,:,:],0), np.min(out[test_idx_unstable,1,:,:],0), color='grey', alpha=0.1)\n",
        "plt.plot(TimeRecord,y[test_idx_unstable,1,bus_select,:].T)\n",
        "plt.ylim([ylim_low,ylim_high])\n",
        "plt.xlabel('time(s)')\n",
        "plt.ylabel('$\\omega$(Hz)')\n",
        "plt.title('stressed-unstable', fontdict = {'fontsize' : 12})\n",
        "\n",
        "\n",
        "plt.tight_layout()\n",
        "plt.subplots_adjust(top=0.9)\n",
        "\n"
      ],
      "metadata": {
        "id": "WmL_7HcmC-ko"
      },
      "execution_count": null,
      "outputs": []
    },
    {
      "cell_type": "code",
      "source": [
        "# mpl.rcParams['axes.prop_cycle'] = cycler(color=[ '#d62728', '#e377c2','#2ca02c','#ff7f0e',   '#9467bd', '#8c564b', '#1f77b4','#7f7f7f', '#bcbd22', '#17becf'])\n",
        "mpl.rcParams['axes.prop_cycle'] = cycler(color=[ '#d62728', '#e377c2','#2ca02c','#ff7f0e',   '#9467bd', \n",
        "                                                '#8c564b', '#7f7f7f','#17becf', '#bcbd22', '#1f77b4'])\n",
        "ylim_high = 0.67\n",
        "ylim_low =-0.67\n",
        "\n",
        "fig=plt.figure(figsize=(3.5,5), dpi=100)\n",
        "TimeRecord=np.arange(0,np.shape(y)[-1])*delta_t*sub_T\n",
        "plt.subplot(2,1,1)\n",
        "\n",
        "mpl.pyplot.fill_between(TimeRecord, np.max(out[test_idx_stable,1,:,:],0), np.min(out[test_idx_stable,1,:,:],0), color='grey', alpha=0.1)\n",
        "plt.plot(TimeRecord,out[test_idx_stable,1,bus_select,:].T)\n",
        "plt.ylim([ylim_low,ylim_high])\n",
        "plt.xlabel('time(s)')\n",
        "plt.ylabel('$\\omega$(Hz)')\n",
        "plt.title('stressed-stable', fontdict = {'fontsize' : 12})\n",
        "\n",
        "\n",
        "\n",
        "ylim_high = 1.4\n",
        "ylim_low =-0.7\n",
        "plt.subplot(2,1,2)\n",
        "mpl.pyplot.fill_between(TimeRecord, np.max(out[test_idx_unstable,1,:,:],0), np.min(out[test_idx_unstable,1,:,:],0), color='grey', alpha=0.1)\n",
        "plt.plot(TimeRecord,out[test_idx_unstable,1,bus_select,:].T)\n",
        "plt.ylim([ylim_low,ylim_high])\n",
        "plt.xlabel('time(s)')\n",
        "plt.ylabel('$\\omega$(Hz)')\n",
        "plt.title('stressed-unstable', fontdict = {'fontsize' : 12})\n",
        "\n",
        "\n",
        "plt.tight_layout()\n",
        "plt.subplots_adjust(top=0.9)\n"
      ],
      "metadata": {
        "id": "t80gJXBSCVe_"
      },
      "execution_count": null,
      "outputs": []
    },
    {
      "cell_type": "markdown",
      "source": [
        "#### stable"
      ],
      "metadata": {
        "id": "9bmHB4gw3iO5"
      }
    },
    {
      "cell_type": "code",
      "metadata": {
        "id": "4zdDrSrF_tZq"
      },
      "source": [
        "mpl.rcParams['axes.prop_cycle'] = cycler(color=[ '#d62728', '#e377c2','#2ca02c','#ff7f0e',   '#9467bd', \n",
        "                                                '#8c564b', '#7f7f7f','#17becf', '#bcbd22', '#1f77b4'])\n",
        "ylim_high = 0.7\n",
        "ylim_low =-0.7\n",
        "\n",
        "fig=plt.figure(figsize=(3.5,5), dpi=100)\n",
        "TimeRecord=np.arange(0,np.shape(y)[-1])*delta_t*sub_T\n",
        "plt.subplot(2,1,1)\n",
        "mpl.pyplot.fill_between(TimeRecord, np.max(y[test_idx_stable,1,:,:],0), np.min(y[test_idx_stable,1,:,:],0), color='grey', alpha=0.1)\n",
        "plt.plot(TimeRecord,y[test_idx_stable,1,bus_select,:].T)\n",
        "plt.xlabel('time(s)')\n",
        "plt.ylabel('$\\omega(Hz)$')\n",
        "plt.ylim([ylim_low,ylim_high])\n",
        "plt.title('accurate', fontdict = {'fontsize' : 12})\n",
        "\n",
        "\n",
        "plt.subplot(2,1,2)\n",
        "mpl.pyplot.fill_between(TimeRecord, np.max(y[test_idx_stable,1,:,:],0), np.min(out[test_idx_stable,1,:,:],0), color='grey', alpha=0.1)\n",
        "plt.plot(TimeRecord,y[test_idx_stable,1,bus_select,:].T)\n",
        "plt.ylim([ylim_low,ylim_high])\n",
        "plt.xlabel('time(s)')\n",
        "plt.ylabel('$\\omega$(Hz)')\n",
        "plt.title('predict', fontdict = {'fontsize' : 12})\n",
        "\n",
        "plt.legend(bus_select_legend, prop={'size': 7.5}, loc = (0.3, 0.0), ncol=2 )\n",
        "\n",
        "\n",
        "plt.tight_layout()\n",
        "plt.subplots_adjust(top=0.9)\n",
        "\n"
      ],
      "execution_count": null,
      "outputs": []
    },
    {
      "cell_type": "code",
      "source": [
        "mpl.rcParams['axes.prop_cycle'] = cycler(color=[ '#d62728', '#e377c2','#2ca02c','#ff7f0e',   '#9467bd', \n",
        "                                                '#8c564b', '#7f7f7f','#17becf', '#bcbd22', '#1f77b4'])\n",
        "ylim_high = 0.7\n",
        "ylim_low =-0.7\n",
        "\n",
        "fig=plt.figure(figsize=(3.5,2.5), dpi=100)\n",
        "TimeRecord=np.arange(0,np.shape(y)[-1])*delta_t*sub_T\n",
        "\n",
        "\n",
        "mpl.pyplot.fill_between(TimeRecord, np.max(y[test_idx_stable,1,:,:],0), np.min(y[test_idx_stable,1,:,:],0), color='grey', alpha=0.1)\n",
        "plt.plot(TimeRecord,y[test_idx_stable,1,bus_select,:].T)\n",
        "plt.xlabel('time(s)')\n",
        "plt.ylabel('$\\omega(Hz)$')\n",
        "plt.ylim([ylim_low,ylim_high])\n",
        "\n",
        "plt.legend(bus_select_legend, prop={'size': 7.}, loc = (0.3, 0.0), ncol=2 )\n",
        "\n",
        "\n",
        "plt.tight_layout()\n",
        "plt.subplots_adjust(top=0.9)\n",
        "\n"
      ],
      "metadata": {
        "id": "Zf1cZ8Sg2vZS"
      },
      "execution_count": null,
      "outputs": []
    },
    {
      "cell_type": "code",
      "source": [
        "mpl.rcParams['axes.prop_cycle'] = cycler(color=[ '#d62728', '#e377c2','#2ca02c','#ff7f0e',   '#9467bd', \n",
        "                                                '#8c564b', '#7f7f7f','#17becf', '#bcbd22', '#1f77b4'])\n",
        "ylim_high = 0.68\n",
        "ylim_low =-0.68\n",
        "\n",
        "fig=plt.figure(figsize=(3.5,2.5), dpi=100)\n",
        "TimeRecord=np.arange(0,np.shape(y)[-1])*delta_t*sub_T\n",
        "\n",
        "\n",
        "mpl.pyplot.fill_between(TimeRecord, np.max(out[test_idx_stable,1,:,:],0), np.min(out[test_idx_stable,1,:,:],0), color='grey', alpha=0.1)\n",
        "plt.plot(TimeRecord,out[test_idx_stable,1,bus_select,:].T)\n",
        "plt.ylim([ylim_low,ylim_high])\n",
        "plt.xlabel('time(s)')\n",
        "plt.ylabel('$\\omega$(Hz)')\n",
        "\n",
        "\n",
        "plt.tight_layout()\n",
        "plt.subplots_adjust(top=0.9)\n",
        "\n",
        " \n"
      ],
      "metadata": {
        "id": "07yrlKIW3vx5"
      },
      "execution_count": null,
      "outputs": []
    },
    {
      "cell_type": "code",
      "source": [],
      "metadata": {
        "id": "pHu4xKBqCP--"
      },
      "execution_count": null,
      "outputs": []
    },
    {
      "cell_type": "markdown",
      "source": [
        "#### unstable"
      ],
      "metadata": {
        "id": "Q3TxlWdX3d8H"
      }
    },
    {
      "cell_type": "code",
      "source": [
        "# mpl.rcParams['axes.prop_cycle'] = cycler(color=[ '#d62728', '#e377c2','#2ca02c','#ff7f0e',   '#9467bd', '#8c564b', '#1f77b4','#7f7f7f', '#bcbd22', '#17becf'])\n",
        "mpl.rcParams['axes.prop_cycle'] = cycler(color=[ '#d62728', '#e377c2','#2ca02c','#ff7f0e',   '#9467bd', \n",
        "                                                '#8c564b', '#7f7f7f','#17becf', '#bcbd22', '#1f77b4'])\n",
        "ylim_high = 1.4\n",
        "ylim_low =-0.7\n",
        "\n",
        "fig=plt.figure(figsize=(3.5,5), dpi=100)\n",
        "TimeRecord=np.arange(0,np.shape(y)[-1])*delta_t*sub_T\n",
        "\n",
        "plt.subplot(2,1,1)\n",
        "mpl.pyplot.fill_between(TimeRecord, np.max(y[test_idx_unstable,1,:,:],0), np.min(y[test_idx_unstable,1,:,:],0), color='grey', alpha=0.1)\n",
        "plt.plot(TimeRecord,y[test_idx_unstable,1,bus_select,:].T)\n",
        "plt.xlabel('time(s)')\n",
        "plt.ylabel('$\\omega(Hz)$')\n",
        "plt.ylim([ylim_low,ylim_high])\n",
        "plt.title('accurate', fontdict = {'fontsize' : 12})\n",
        "\n",
        "\n",
        "\n",
        "plt.subplot(2,1,2)\n",
        "mpl.pyplot.fill_between(TimeRecord, np.max(out[test_idx_unstable,1,:,:],0), np.min(out[test_idx_unstable,1,:,:],0), color='grey', alpha=0.1)\n",
        "plt.plot(TimeRecord,out[test_idx_unstable,1,bus_select,:].T)\n",
        "plt.ylim([ylim_low,ylim_high])\n",
        "plt.xlabel('time(s)')\n",
        "plt.ylabel('$\\omega$(Hz)')\n",
        "plt.title('predict', fontdict = {'fontsize' : 12})\n",
        "\n",
        "plt.legend(bus_select_legend, prop={'size': 7.5}, loc = (0.01, 0.5), ncol=2 )\n",
        "\n",
        "\n",
        "plt.tight_layout()\n",
        "plt.subplots_adjust(top=0.9)\n",
        "\n"
      ],
      "metadata": {
        "id": "nRbOa1EEamea"
      },
      "execution_count": null,
      "outputs": []
    },
    {
      "cell_type": "code",
      "source": [
        "# mpl.rcParams['axes.prop_cycle'] = cycler(color=[ '#d62728', '#e377c2','#2ca02c','#ff7f0e',   '#9467bd', '#8c564b', '#1f77b4','#7f7f7f', '#bcbd22', '#17becf'])\n",
        "mpl.rcParams['axes.prop_cycle'] = cycler(color=[ '#d62728', '#e377c2','#2ca02c','#ff7f0e',   '#9467bd', \n",
        "                                                '#8c564b', '#7f7f7f','#17becf', '#bcbd22', '#1f77b4'])\n",
        "# ylim_high = 0.7\n",
        "# ylim_low =-0.7\n",
        "\n",
        "fig=plt.figure(figsize=(3.5,2.5), dpi=100)\n",
        "TimeRecord=np.arange(0,np.shape(y)[-1])*delta_t*sub_T\n",
        "\n",
        "\n",
        "mpl.pyplot.fill_between(TimeRecord, np.max(y[test_idx_unstable,1,:,:],0), np.min(y[test_idx_stable,1,:,:],0), color='grey', alpha=0.1)\n",
        "plt.plot(TimeRecord,y[test_idx_unstable,1,bus_select,:].T)\n",
        "plt.xlabel('time(s)')\n",
        "plt.ylabel('$\\omega(Hz)$')\n",
        "plt.ylim([ylim_low,ylim_high])\n",
        "\n",
        "plt.legend(bus_select_legend, prop={'size': 7.}, loc = (0.18, 0.52), ncol=2 )\n",
        "\n",
        "\n",
        "plt.tight_layout()\n",
        "plt.subplots_adjust(top=0.9)\n",
        "# plt.show()\n",
        "\n"
      ],
      "metadata": {
        "id": "A4Xufs2L5aEH"
      },
      "execution_count": null,
      "outputs": []
    },
    {
      "cell_type": "code",
      "source": [
        "mpl.rcParams['axes.prop_cycle'] = cycler(color=[ '#d62728', '#e377c2','#2ca02c','#ff7f0e',   '#9467bd', \n",
        "                                                '#8c564b', '#7f7f7f','#17becf', '#bcbd22', '#1f77b4'])\n",
        "# ylim_high = 0.7\n",
        "# ylim_low =-0.7\n",
        "\n",
        "fig=plt.figure(figsize=(3.5,2.5), dpi=100)\n",
        "TimeRecord=np.arange(0,np.shape(y)[-1])*delta_t*sub_T\n",
        "\n",
        "\n",
        "mpl.pyplot.fill_between(TimeRecord, np.max(out[test_idx_unstable,1,:,:],0), np.min(out[test_idx_stable,1,:,:],0), color='grey', alpha=0.1)\n",
        "plt.plot(TimeRecord,out[test_idx_unstable,1,bus_select,:].T)\n",
        "plt.ylim([ylim_low,ylim_high])\n",
        "plt.xlabel('time(s)')\n",
        "plt.ylabel('$\\omega$(Hz)')\n",
        "\n",
        "plt.tight_layout()\n",
        "plt.subplots_adjust(top=0.9)\n",
        "# plt.show()\n",
        "\n"
      ],
      "metadata": {
        "id": "011ObqY95B-Y"
      },
      "execution_count": null,
      "outputs": []
    },
    {
      "cell_type": "markdown",
      "metadata": {
        "id": "L6e3Kb1mDifR"
      },
      "source": [
        "# computational time"
      ]
    },
    {
      "cell_type": "code",
      "metadata": {
        "id": "td2cKI8WDkpx"
      },
      "source": [
        "num_time_calc=0\n",
        "for test_idx in range(0, test_u.size()[0]):\n",
        "\n",
        "    y=test_u[test_idx:test_idx+1]\n",
        "    x=test_a[test_idx:test_idx+1]\n",
        "    x=x.cuda()\n",
        "\n",
        "    t1=default_timer()\n",
        "    out = model(x)[0:1, full_idx_u, 0:dim_omega, 0:int(T/sub_T),0]\n",
        "    \n",
        "    out = y_normalizer.decode(out)\n",
        "    t2=default_timer()\n",
        "    num_time_calc+=t2-t1\n",
        "\n",
        "print('time', num_time_calc/test_u.size()[0])"
      ],
      "execution_count": null,
      "outputs": []
    },
    {
      "cell_type": "code",
      "metadata": {
        "collapsed": true,
        "id": "KVokF4I0ydy0"
      },
      "source": [],
      "execution_count": null,
      "outputs": []
    }
  ]
}